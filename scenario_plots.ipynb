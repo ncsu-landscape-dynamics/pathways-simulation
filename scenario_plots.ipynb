{
 "cells": [
  {
   "cell_type": "code",
   "execution_count": null,
   "metadata": {},
   "outputs": [],
   "source": [
    "from pathways.scenarios import run_scenarios, load_scenario_table\n",
    "from pathways.simulation import load_configuration\n",
    "from pathways.outputs import save_scenario_result_to_pandas"
   ]
  },
  {
   "cell_type": "code",
   "execution_count": null,
   "metadata": {},
   "outputs": [],
   "source": [
    "import pandas as pd\n",
    "import numpy as np\n",
    "import re\n",
    "import seaborn as sns\n",
    "import matplotlib.pyplot as plt\n",
    "\n",
    "%matplotlib inline"
   ]
  },
  {
   "cell_type": "code",
   "execution_count": null,
   "metadata": {},
   "outputs": [],
   "source": [
    "from pathlib import Path\n",
    "datadir = Path(\"tests/test_summaries\")\n",
    "basic_config = load_configuration(datadir / \"config.yml\")\n",
    "scenario_table = load_scenario_table(datadir / \"scenarios_config.csv\")"
   ]
  },
  {
   "cell_type": "code",
   "execution_count": null,
   "metadata": {
    "tags": []
   },
   "outputs": [],
   "source": [
    "num_shipments = 20\n",
    "results, scenario_details = run_scenarios(\n",
    "    config=basic_config,\n",
    "    scenario_table=scenario_table,\n",
    "    seed=42,\n",
    "    num_simulations=1,\n",
    "    num_shipments=num_shipments,\n",
    "    detailed=True,\n",
    ")"
   ]
  },
  {
   "cell_type": "code",
   "execution_count": null,
   "metadata": {},
   "outputs": [],
   "source": [
    "df = save_scenario_result_to_pandas(\n",
    "    results,\n",
    "    config_columns=[\n",
    "        \"name\",\n",
    "        \"shipment_name\",\n",
    "        \"inspection_name\",\n",
    "        \"shipment/boxes/min\",\n",
    "        \"shipment/boxes/max\",\n",
    "        \"shipment/stems_per_box/default\",\n",
    "        \"pest/infestation_unit\",\n",
    "        \"pest/infestation_rate/parameters\",\n",
    "        \"pest/arrangement\",\n",
    "        \"pest/clustered/distribution\",\n",
    "        \"inspection/unit\",\n",
    "        \"inspection/sample_strategy\",\n",
    "        \"inspection/proportion/value\",\n",
    "        \"inspection/hypergeometric/detection_level\",\n",
    "        \"inspection/selection_strategy\",\n",
    "        \"inspection/within_box_pct\",\n",
    "        \"inspection/hierarchical/outer\",\n",
    "    ],\n",
    "    result_columns=[\n",
    "        \"missing\",\n",
    "        \"true_infestation_rate\",\n",
    "        \"max_missed_infestation_rate\",\n",
    "        \"avg_missed_infestation_rate\",\n",
    "        \"max_intercepted_infestation_rate\",\n",
    "        \"avg_intercepted_infestation_rate\",\n",
    "        \"avg_boxes_opened_completion\",\n",
    "        \"avg_boxes_opened_detection\",\n",
    "        \"avg_stems_inspected_completion\",\n",
    "        \"avg_stems_inspected_detection\",\n",
    "        \"pct_pest_unreported_if_detection\",\n",
    "    ],\n",
    ")"
   ]
  },
  {
   "cell_type": "code",
   "execution_count": null,
   "metadata": {},
   "outputs": [],
   "source": [
    "#df = pd.read_csv(\"H:/Shared drives/APHIS  Projects/Pathways/Results/results_all.csv\")"
   ]
  },
  {
   "cell_type": "code",
   "execution_count": null,
   "metadata": {},
   "outputs": [],
   "source": [
    "df['shipment_name'] = pd.Categorical(df['shipment_name'])\n",
    "shipment_order = [\"infestation_5\", \"infestation_10\", \"infestation_25\", \"small\", \"large\", \"maritime\", \"clustered\", \"clustered_small\", \"clustered_large\"]\n",
    "df['shipment_name'] = df['shipment_name'].cat.reorder_categories(shipment_order, ordered=True)\n",
    "df"
   ]
  },
  {
   "cell_type": "code",
   "execution_count": null,
   "metadata": {},
   "outputs": [],
   "source": [
    "df.plot(kind=\"bar\", x=\"inspection_name\", y=\"missing\")"
   ]
  },
  {
   "cell_type": "code",
   "execution_count": null,
   "metadata": {},
   "outputs": [],
   "source": [
    "#df[\"shipment\"] = df.apply(lambda row: re.sub(\"_[0-9]+$\", \"\", row[\"name\"]), axis = 1)"
   ]
  },
  {
   "cell_type": "code",
   "execution_count": null,
   "metadata": {},
   "outputs": [],
   "source": [
    "df.groupby(\"shipment_name\").agg({\"missing\": \"mean\"}).reset_index().plot(kind=\"bar\", x=\"shipment_name\", y=\"missing\")"
   ]
  },
  {
   "cell_type": "code",
   "execution_count": null,
   "metadata": {},
   "outputs": [],
   "source": [
    "df.groupby(\"inspection_name\").agg({\"missing\": \"mean\"}).reset_index().plot(kind=\"bar\", x=\"inspection_name\", y=\"missing\")\n",
    "plt.xlabel(\"inspection\", size=12)\n",
    "plt.ylabel(\"percent missed\", size=12)\n",
    "plt.title(\"Avg percent infested shipments missed by inspection\", size=16)"
   ]
  },
  {
   "cell_type": "code",
   "execution_count": null,
   "metadata": {},
   "outputs": [],
   "source": [
    "inspections_vs_shipments = df.pivot_table(index=[\"inspection_name\"], columns=[\"shipment_name\"], values=[\"missing\"])\n",
    "inspections_vs_shipments"
   ]
  },
  {
   "cell_type": "code",
   "execution_count": null,
   "metadata": {},
   "outputs": [],
   "source": [
    "inspections_vs_shipments.plot(kind=\"bar\")"
   ]
  },
  {
   "cell_type": "code",
   "execution_count": null,
   "metadata": {},
   "outputs": [],
   "source": [
    "ax = inspections_vs_shipments.plot(kind=\"bar\", figsize=(100, 10))\n",
    "#ax.figure.savefig(\"inspections_vs_shipments_bar.png\")"
   ]
  },
  {
   "cell_type": "code",
   "execution_count": null,
   "metadata": {},
   "outputs": [],
   "source": [
    "from itertools import cycle, islice\n",
    "\n",
    "it = cycle(list(range(1,49)))\n",
    "df['inspection_num'] = list(islice(it, len(df)))"
   ]
  },
  {
   "cell_type": "code",
   "execution_count": null,
   "metadata": {},
   "outputs": [],
   "source": [
    "plt.figure(figsize=(30, 8))\n",
    "sns.boxplot(x=\"inspection_name\", y=\"missing\", data=df)\n",
    "plt.xticks(\n",
    "    rotation=45, \n",
    "    horizontalalignment='right',\n",
    "    fontweight='light',\n",
    "    fontsize='large'  \n",
    ")\n",
    "plt.xlabel(\"inspection\", size=16)\n",
    "plt.ylabel(\"percent missed\", size=16)\n",
    "plt.title(\"Avg. percent infested shipments missed by inspection\", size=20)\n",
    "plt.savefig(\"missed_by_inspection_boxplot.png\", bbox_inches = \"tight\")"
   ]
  },
  {
   "cell_type": "code",
   "execution_count": null,
   "metadata": {},
   "outputs": [],
   "source": [
    "plt.figure(figsize=(30, 8))\n",
    "sns.barplot(x=\"inspection_name\", y=\"missing\", data=df)\n",
    "plt.xticks(\n",
    "    rotation=45, \n",
    "    horizontalalignment='right',\n",
    "    fontweight='light',\n",
    "    fontsize='large'  \n",
    ")\n",
    "plt.xlabel(\"inspection\", size=16)\n",
    "plt.ylabel(\"percent missed\", size=16)\n",
    "plt.title(\"Avg. percent infested shipments missed by inspection\", size=20)\n",
    "plt.savefig(\"missed_by_inspection.png\", bbox_inches = \"tight\")"
   ]
  },
  {
   "cell_type": "code",
   "execution_count": null,
   "metadata": {},
   "outputs": [],
   "source": [
    "sns.barplot(x=\"shipment_name\", y=\"missing\", data=df)\n",
    "plt.xticks(\n",
    "    rotation=45, \n",
    "    horizontalalignment='right',\n",
    "    fontweight='light',\n",
    "    fontsize='large'  \n",
    ")\n",
    "plt.xlabel(\"shipment type\", size=12)\n",
    "plt.ylabel(\"percent missed\", size=12)\n",
    "plt.title(\"Avg. percent infested shipments missed by shipment type\", size=16)\n",
    "plt.savefig(\"missed_by_shipment.png\", bbox_inches = \"tight\")"
   ]
  },
  {
   "cell_type": "code",
   "execution_count": null,
   "metadata": {},
   "outputs": [],
   "source": [
    "sns.boxplot(x=\"shipment_name\", y=\"missing\", data=df)\n",
    "plt.xticks(\n",
    "    rotation=45, \n",
    "    horizontalalignment='right',\n",
    "    fontweight='light',\n",
    "    fontsize='large'  \n",
    ")\n",
    "plt.xlabel(\"shipment type\", size=12)\n",
    "plt.ylabel(\"percent missed\", size=12)\n",
    "plt.title(\"Percent infested shipments missed by shipment type\", size=16)\n",
    "plt.savefig(\"missed_by_inspection_boxplot.png\", bbox_inches = \"tight\")"
   ]
  },
  {
   "cell_type": "code",
   "execution_count": null,
   "metadata": {},
   "outputs": [],
   "source": [
    "sns.catplot(x=\"shipment_name\", y=\"missing\", hue=\"inspection/sample_strategy\", kind=\"box\", data=df, height=8.27, aspect=11.7/8.27)\n",
    "plt.xlabel(\"shipment type\", size=12)\n",
    "plt.ylabel(\"percent missed\", size=12)\n",
    "plt.title(\"Percent infested shipments missed by shipment type and sample strategy\", size=16)\n",
    "plt.savefig(\"missed_by_shipment_sample_strategy.png\", bbox_inches = \"tight\")"
   ]
  },
  {
   "cell_type": "code",
   "execution_count": null,
   "metadata": {},
   "outputs": [],
   "source": [
    "sns.catplot(x=\"shipment_name\", y=\"missing\", hue=\"inspection/unit\", kind=\"box\", data=df, height=9, aspect=11.7/8.27)\n",
    "plt.xlabel(\"shipment type\", size=12)\n",
    "plt.ylabel(\"percent missed\", size=12)\n",
    "plt.title(\"Percent infested shipments missed by shipment type and inspection unit\", size=16)\n",
    "plt.savefig(\"missed_by_shipment_unit.png\", bbox_inches = \"tight\")"
   ]
  },
  {
   "cell_type": "code",
   "execution_count": null,
   "metadata": {},
   "outputs": [],
   "source": [
    "chart = sns.catplot(x=\"shipment_name\", y=\"missing\", hue=\"inspection/selection_strategy\", aspect=11.7/8.27,\n",
    "            kind=\"box\", data=df, height=8)\n",
    "chart.set_xticklabels(rotation=65, horizontalalignment='right')\n",
    "plt.xlabel(\"shipment type\", size=12)\n",
    "plt.ylabel(\"percent missed\", size=12)\n",
    "plt.title(\"Percent infested shipments missed by shipment type and selection strategy\", size=16)\n",
    "chart.savefig(\"missed_by_shipment_selection.png\", bbox_inches = \"tight\")"
   ]
  },
  {
   "cell_type": "code",
   "execution_count": null,
   "metadata": {},
   "outputs": [],
   "source": [
    "inspections_vs_shipments"
   ]
  },
  {
   "cell_type": "code",
   "execution_count": null,
   "metadata": {},
   "outputs": [],
   "source": [
    "plt.figure(figsize=(10, 10))\n",
    "sns.heatmap(data=inspections_vs_shipments, annot=True, fmt=\".2f\", xticklabels = shipment_order)\n",
    "plt.xlabel(\"shipment type\", size=12)\n",
    "plt.ylabel(\"inspection\", size=12)\n",
    "plt.title(\"Percent infested shipments missed\", size=16)\n",
    "plt.savefig(\"heatmap_missed.png\", bbox_inches = \"tight\")"
   ]
  },
  {
   "cell_type": "code",
   "execution_count": null,
   "metadata": {},
   "outputs": [],
   "source": [
    "inspections_vs_shipments_boxes_opened = df.pivot_table(index=[\"inspection_name\"], columns=[\"shipment_name\"], values=[\"avg_boxes_opened_completion\"])\n",
    "\n",
    "plt.figure(figsize=(10, 10))\n",
    "sns.heatmap(data=inspections_vs_shipments_boxes_opened, annot=True, fmt=\".2f\", xticklabels = shipment_order)\n",
    "plt.xlabel(\"shipment type\", size=12)\n",
    "plt.ylabel(\"inspection\", size=12)\n",
    "plt.title(\"Avg. number of boxes opened (inspect to completion)\", size=16)\n",
    "plt.savefig(\"heatmap_boxes_completion.png\", bbox_inches = \"tight\")"
   ]
  },
  {
   "cell_type": "code",
   "execution_count": null,
   "metadata": {},
   "outputs": [],
   "source": [
    "inspections_vs_shipments_stems_inspected = df.pivot_table(index=[\"inspection_name\"], columns=[\"shipment_name\"], values=[\"avg_stems_inspected_completion\"])\n",
    "\n",
    "plt.figure(figsize=(10, 10))\n",
    "sns.heatmap(data=inspections_vs_shipments_stems_inspected, annot=True, fmt=\".2f\", xticklabels = shipment_order)\n",
    "plt.xlabel(\"shipment type\", size=12)\n",
    "plt.ylabel(\"inspection\", size=12)\n",
    "plt.title(\"Avg. number of stems inpected (inspect to completion)\", size=16)\n",
    "plt.savefig(\"heatmap_stems_completion.png\", bbox_inches = \"tight\")"
   ]
  },
  {
   "cell_type": "code",
   "execution_count": null,
   "metadata": {},
   "outputs": [],
   "source": [
    "inspections_vs_shipments_boxes_opened_detection = df.pivot_table(index=[\"inspection_name\"], columns=[\"shipment_name\"], values=[\"avg_boxes_opened_detection\"])\n",
    "\n",
    "plt.figure(figsize=(10, 10))\n",
    "sns.heatmap(data=inspections_vs_shipments_boxes_opened_detection, annot=True, fmt=\".2f\", xticklabels = shipment_order)\n",
    "plt.xlabel(\"shipment type\", size=12)\n",
    "plt.ylabel(\"inspection\", size=12)\n",
    "plt.title(\"Avg. number of boxes opened (inspect to detection)\", size=16)\n",
    "plt.savefig(\"heatmap_boxes_detection.png\", bbox_inches = \"tight\")"
   ]
  },
  {
   "cell_type": "code",
   "execution_count": null,
   "metadata": {},
   "outputs": [],
   "source": [
    "inspections_vs_shipments_stems_inspected_detection = df.pivot_table(index=[\"inspection_name\"], columns=[\"shipment_name\"], values=[\"avg_stems_inspected_detection\"])\n",
    "\n",
    "plt.figure(figsize=(10, 10))\n",
    "sns.heatmap(data=inspections_vs_shipments_stems_inspected_detection, annot=True, fmt=\".2f\", xticklabels = shipment_order)\n",
    "plt.xlabel(\"shipment type\", size=12)\n",
    "plt.ylabel(\"inspection\", size=12)\n",
    "plt.title(\"Avg. number of stems inspected (inspect to detection)\", size=16)\n",
    "plt.savefig(\"heatmap_stems_detection.png\", bbox_inches = \"tight\")"
   ]
  },
  {
   "cell_type": "code",
   "execution_count": null,
   "metadata": {},
   "outputs": [],
   "source": [
    "df_norm = df[[\"missing\",\n",
    "        \"true_infestation_rate\",\n",
    "        \"max_intercepted_infestation_rate\",\n",
    "        \"avg_intercepted_infestation_rate\",\n",
    "        \"avg_boxes_opened_completion\",\n",
    "        \"avg_boxes_opened_detection\",\n",
    "        \"avg_stems_inspected_completion\",\n",
    "        \"avg_stems_inspected_detection\",\n",
    "        \"pct_sample_if_to_detection\",\n",
    "        \"pct_pest_unreported_if_detection\"]]\n",
    "df_norm"
   ]
  },
  {
   "cell_type": "code",
   "execution_count": null,
   "metadata": {},
   "outputs": [],
   "source": [
    "df_norm=(df_norm-df_norm.min())/(df_norm.max()-df_norm.min())\n",
    "df_norm"
   ]
  },
  {
   "cell_type": "code",
   "execution_count": null,
   "metadata": {},
   "outputs": [],
   "source": [
    "df_norm[\"name\"], df_norm[\"inspection_num\"], df_norm[\"inspection_name\"], df_norm[\"shipment_name\"] = df[\"name\"], df[\"inspection_num\"], df[\"inspection_name\"], df[\"shipment_name\"]\n",
    "df_norm"
   ]
  },
  {
   "cell_type": "code",
   "execution_count": null,
   "metadata": {},
   "outputs": [],
   "source": [
    "df_norm_melted = pd.melt(df_norm, id_vars=[\"inspection_num\", \"inspection_name\", \"shipment_name\"], value_vars=[\"missing\", \"avg_boxes_opened_completion\", \"avg_stems_inspected_completion\"])\n",
    "fig, ax1 = plt.subplots(figsize=(30, 6))\n",
    "chart = sns.barplot(x=\"inspection_name\", y=\"value\", hue=\"variable\",\\\n",
    "                data=df_norm_melted, ax=ax1, ci = None)\n",
    "plt.xticks(\n",
    "    rotation=45, \n",
    "    horizontalalignment='right',\n",
    "    fontweight='light',\n",
    "    fontsize='large'  \n",
    ")\n",
    "plt.title(\"Normalized metrics by inspection (mean value across all shipment types)\")\n",
    "plt.xlabel(\"inspection description\")\n",
    "plt.ylabel(\"normalized value\")\n",
    "plt.savefig(\"metrics_by_inspection_all.png\", bbox_inches = \"tight\")"
   ]
  },
  {
   "cell_type": "code",
   "execution_count": null,
   "metadata": {},
   "outputs": [],
   "source": [
    "fig, ax1 = plt.subplots(figsize=(30, 6))\n",
    "chart = sns.barplot(x=\"inspection_name\", y=\"value\", hue=\"variable\",\\\n",
    "                data=df_norm_melted[df_norm_melted.shipment_name.eq(\"infestation_5\")], ax=ax1)\n",
    "plt.xticks(\n",
    "    rotation=45, \n",
    "    horizontalalignment='right',\n",
    "    fontweight='light',\n",
    "    fontsize='large'  \n",
    ")\n",
    "plt.title(\"Normalized metrics by inspection (5% Infestation shipments)\")\n",
    "plt.xlabel(\"inspection description\")\n",
    "plt.ylabel(\"normalized value\")\n",
    "plt.savefig(\"metrics_by_inspection_infestation_5.png\", bbox_inches = \"tight\")"
   ]
  },
  {
   "cell_type": "code",
   "execution_count": null,
   "metadata": {},
   "outputs": [],
   "source": [
    "fig, ax1 = plt.subplots(figsize=(30, 6))\n",
    "chart = sns.barplot(x=\"inspection_name\", y=\"value\", hue=\"variable\",\\\n",
    "                data=df_norm_melted[df_norm_melted.shipment_name.eq(\"infestation_10\")], ax=ax1)\n",
    "plt.xticks(\n",
    "    rotation=45, \n",
    "    horizontalalignment='right',\n",
    "    fontweight='light',\n",
    "    fontsize='large'  \n",
    ")\n",
    "plt.title(\"Normalized metrics by inspection (10% Infestation shipments)\")\n",
    "plt.xlabel(\"inspection description\")\n",
    "plt.ylabel(\"normalized value\")\n",
    "plt.savefig(\"metrics_by_inspection_infestation_10.png\", bbox_inches = \"tight\")"
   ]
  },
  {
   "cell_type": "code",
   "execution_count": null,
   "metadata": {},
   "outputs": [],
   "source": [
    "fig, ax1 = plt.subplots(figsize=(30, 6))\n",
    "chart = sns.barplot(x=\"inspection_name\", y=\"value\", hue=\"variable\",\\\n",
    "                data=df_norm_melted[df_norm_melted.shipment_name.eq(\"infestation_25\")], ax=ax1)\n",
    "plt.xticks(\n",
    "    rotation=45, \n",
    "    horizontalalignment='right',\n",
    "    fontweight='light',\n",
    "    fontsize='large'  \n",
    ")\n",
    "plt.title(\"Normalized metrics by inspection (25% Infestation shipments)\")\n",
    "plt.xlabel(\"inspection description\")\n",
    "plt.ylabel(\"normalized value\")\n",
    "plt.savefig(\"metrics_by_inspection_infestation_25.png\", bbox_inches = \"tight\")"
   ]
  },
  {
   "cell_type": "code",
   "execution_count": null,
   "metadata": {},
   "outputs": [],
   "source": [
    "fig, ax1 = plt.subplots(figsize=(30, 6))\n",
    "chart = sns.barplot(x=\"inspection_name\", y=\"value\", hue=\"variable\",\\\n",
    "                data=df_norm_melted[df_norm_melted.shipment_name.eq(\"small\")], ax=ax1)\n",
    "plt.xticks(\n",
    "    rotation=45, \n",
    "    horizontalalignment='right',\n",
    "    fontweight='light',\n",
    "    fontsize='large'  \n",
    ")\n",
    "plt.title(\"Normalized metrics by inspection (Small shipments)\")\n",
    "plt.xlabel(\"inspection description\")\n",
    "plt.ylabel(\"normalized value\")\n",
    "plt.savefig(\"metrics_by_inspection_small.png\", bbox_inches = \"tight\")"
   ]
  },
  {
   "cell_type": "code",
   "execution_count": null,
   "metadata": {},
   "outputs": [],
   "source": [
    "fig, ax1 = plt.subplots(figsize=(30, 6))\n",
    "chart = sns.barplot(x=\"inspection_name\", y=\"value\", hue=\"variable\",\\\n",
    "                data=df_norm_melted[df_norm_melted.shipment_name.eq(\"large\")], ax=ax1)\n",
    "plt.xticks(\n",
    "    rotation=45, \n",
    "    horizontalalignment='right',\n",
    "    fontweight='light',\n",
    "    fontsize='large'  \n",
    ")\n",
    "plt.title(\"Normalized metrics by inspection (Large shipments)\")\n",
    "plt.xlabel(\"inspection description\")\n",
    "plt.ylabel(\"normalized value\")\n",
    "plt.savefig(\"metrics_by_inspection_large.png\", bbox_inches = \"tight\")"
   ]
  },
  {
   "cell_type": "code",
   "execution_count": null,
   "metadata": {},
   "outputs": [],
   "source": [
    "fig, ax1 = plt.subplots(figsize=(30, 6))\n",
    "chart = sns.barplot(x=\"inspection_name\", y=\"value\", hue=\"variable\",\\\n",
    "                data=df_norm_melted[df_norm_melted.shipment_name.eq(\"maritime\")], ax=ax1)\n",
    "plt.xticks(\n",
    "    rotation=45, \n",
    "    horizontalalignment='right',\n",
    "    fontweight='light',\n",
    "    fontsize='large'  \n",
    ")\n",
    "plt.title(\"Normalized metrics by inspection (Maritime shipments)\")\n",
    "plt.xlabel(\"inspection description\")\n",
    "plt.ylabel(\"normalized value\")\n",
    "plt.savefig(\"metrics_by_inspection_maritime.png\", bbox_inches = \"tight\")"
   ]
  },
  {
   "cell_type": "code",
   "execution_count": null,
   "metadata": {},
   "outputs": [],
   "source": [
    "fig, ax1 = plt.subplots(figsize=(30, 6))\n",
    "chart = sns.barplot(x=\"inspection_name\", y=\"value\", hue=\"variable\",\\\n",
    "                data=df_norm_melted[df_norm_melted.shipment_name.eq(\"clustered\")], ax=ax1)\n",
    "plt.xticks(\n",
    "    rotation=45, \n",
    "    horizontalalignment='right',\n",
    "    fontweight='light',\n",
    "    fontsize='large'  \n",
    ")\n",
    "plt.title(\"Normalized metrics by inspection (Clustered shipments)\")\n",
    "plt.xlabel(\"inspection description\")\n",
    "plt.ylabel(\"normalized value\")\n",
    "plt.savefig(\"metrics_by_inspection_clustered.png\", bbox_inches = \"tight\")"
   ]
  },
  {
   "cell_type": "code",
   "execution_count": null,
   "metadata": {},
   "outputs": [],
   "source": [
    "fig, ax1 = plt.subplots(figsize=(30, 6))\n",
    "chart = sns.barplot(x=\"inspection_name\", y=\"value\", hue=\"variable\",\\\n",
    "                data=df_norm_melted[df_norm_melted.shipment_name.eq(\"clustered_small\")], ax=ax1)\n",
    "plt.xticks(\n",
    "    rotation=45, \n",
    "    horizontalalignment='right',\n",
    "    fontweight='light',\n",
    "    fontsize='large'  \n",
    ")\n",
    "plt.title(\"Normalized metrics by inspection (Clustered small shipments)\")\n",
    "plt.xlabel(\"inspection description\")\n",
    "plt.ylabel(\"normalized value\")\n",
    "plt.savefig(\"metrics_by_inspection_clustered_small.png\", bbox_inches = \"tight\")"
   ]
  },
  {
   "cell_type": "code",
   "execution_count": null,
   "metadata": {},
   "outputs": [],
   "source": [
    "fig, ax1 = plt.subplots(figsize=(30, 6))\n",
    "chart = sns.barplot(x=\"inspection_name\", y=\"value\", hue=\"variable\",\\\n",
    "                data=df_norm_melted[df_norm_melted.shipment_name.eq(\"clustered_large\")], ax=ax1)\n",
    "plt.xticks(\n",
    "    rotation=45, \n",
    "    horizontalalignment='right',\n",
    "    fontweight='light',\n",
    "    fontsize='large'  \n",
    ")\n",
    "plt.title(\"Normalized metrics by inspection (Clustered large shipments)\")\n",
    "plt.xlabel(\"inspection description\")\n",
    "plt.ylabel(\"normalized value\")\n",
    "plt.savefig(\"metrics_by_inspection_clustered_large.png\", bbox_inches = \"tight\")"
   ]
  },
  {
   "cell_type": "code",
   "execution_count": null,
   "metadata": {},
   "outputs": [],
   "source": []
  }
 ],
 "metadata": {
  "kernelspec": {
   "display_name": "Python 3",
   "language": "python",
   "name": "python3"
  },
  "language_info": {
   "codemirror_mode": {
    "name": "ipython",
    "version": 3
   },
   "file_extension": ".py",
   "mimetype": "text/x-python",
   "name": "python",
   "nbconvert_exporter": "python",
   "pygments_lexer": "ipython3",
   "version": "3.7.8-final"
  }
 },
 "nbformat": 4,
 "nbformat_minor": 4
}