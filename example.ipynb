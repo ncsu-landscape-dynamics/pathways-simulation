{
 "cells": [
  {
   "cell_type": "markdown",
   "metadata": {},
   "source": [
    "# Pathways simulation examples\n",
    "\n",
    "## A trivial example\n",
    "\n",
    "First, we create a [YAML](https://www.codeproject.com/Articles/1214409/Learn-YAML-in-five-minutes) configuration file\n",
    "with minimal (and unrealistic) parameters to run the simulation (the name of the file is `simple.yml`):"
   ]
  },
  {
   "cell_type": "code",
   "execution_count": 1,
   "metadata": {},
   "outputs": [
    {
     "name": "stdout",
     "output_type": "stream",
     "text": [
      "Writing simple.yml\n"
     ]
    }
   ],
   "source": [
    "%%writefile simple.yml\n",
    "# In the configuration of the shipement generator, we only use couple of ports, flowers, and ports\n",
    "# because they are currently not used by the simulation anyway.\n",
    "shipment:\n",
    "  origins:\n",
    "  - Netherlands\n",
    "  - Mexico\n",
    "  flowers:\n",
    "  - Hyacinthus\n",
    "  - Rosa\n",
    "  # We set very low number of boxes and stems.\n",
    "  boxes:\n",
    "    min: 2\n",
    "    max: 5\n",
    "stems_per_box:\n",
    "  default: 10\n",
    "ports:\n",
    "  - NY JFK CBP\n",
    "  - FL Miami Air CBP\n",
    "pest:\n",
    "  # We use one of the simplest pest placement options.\n",
    "  # Fixed infestation rate for each shipment \n",
    "  infestation_rate:\n",
    "    distribution: fixed_value\n",
    "    value: 0.05\n",
    "  # Pest present in a portion of random boxes\n",
    "  arrangement: random_box\n",
    "  random_box:\n",
    "    # Pests present in every second shipment on average\n",
    "    probability: 0.5\n",
    "    # Roughly a third of boxes should be infested\n",
    "    ratio: 0.33\n",
    "inspection:\n",
    "  # Decision about sampling will be made using stems as a inspection unit.\n",
    "  unit: stems\n",
    "  # We will inspect 2% of stems.\n",
    "  sample_strategy: percentage\n",
    "  percentage:\n",
    "    proportion: 0.02\n",
    "  # Once we pick a box, we will inspect all of its content.\n",
    "  within_box_pct: 1\n",
    "  # Boxes for inspection are selected randomly.\n",
    "  selection_strategy: random"
   ]
  },
  {
   "cell_type": "markdown",
   "metadata": {},
   "source": [
    "Then we create run the simulation generating only couple shipments.\n",
    "The low number of boxes per shipment (`boxes`) and stems per box (`stems_per_box`) in the configuration and the low number\n",
    "of shipments in the simulation allows us to show the individual stems\n",
    "within each shipment using a symbol of a flower (`✿`) indicating ones with pest using a symbol of a bug (`🐛`) instead of a flower.\n",
    "Change the seed value to see different random placements of the pests within the shipment\n",
    "(for example, using `--seed=5`).\n",
    "The `arrangement` is set to `random_box`, so you will always see pest present on the whole box\n",
    "which is marked by pipe symbols (`|`) in the output.\n",
    "We are using `python -m pathways` to run the simulation through its command line interface:"
   ]
  },
  {
   "cell_type": "code",
   "execution_count": 2,
   "metadata": {},
   "outputs": [
    {
     "name": "stdout",
     "output_type": "stream",
     "text": [
      "━━ Shipment ━━ Boxes: 5 ━━ Stems: 50 ━━━━━━━━━━━━━━━━━━━━━━━━━━━━━━━━━━━━━━━━━━━\n",
      "🐛 🐛 🐛 🐛 🐛 🐛 🐛 🐛 🐛 🐛 | 🐛 🐛 🐛 🐛 🐛 🐛 🐛 🐛 🐛 🐛 | ✿ ✿ ✿ ✿ ✿ ✿ ✿ ✿ ✿ ✿ | 🐛 🐛 🐛 🐛 🐛 🐛 🐛 🐛 🐛 🐛 | ✿ ✿ ✿ ✿ ✿ ✿ ✿ ✿ ✿ ✿\n",
      "━━ Shipment ━━ Boxes: 3 ━━ Stems: 30 ━━━━━━━━━━━━━━━━━━━━━━━━━━━━━━━━━━━━━━━━━━━\n",
      "✿ ✿ ✿ ✿ ✿ ✿ ✿ ✿ ✿ ✿ | ✿ ✿ ✿ ✿ ✿ ✿ ✿ ✿ ✿ ✿ | ✿ ✿ ✿ ✿ ✿ ✿ ✿ ✿ ✿ ✿\n",
      "━━ Shipment ━━ Boxes: 4 ━━ Stems: 40 ━━━━━━━━━━━━━━━━━━━━━━━━━━━━━━━━━━━━━━━━━━━\n",
      "🐛 🐛 🐛 🐛 🐛 🐛 🐛 🐛 🐛 🐛 | ✿ ✿ ✿ ✿ ✿ ✿ ✿ ✿ ✿ ✿ | ✿ ✿ ✿ ✿ ✿ ✿ ✿ ✿ ✿ ✿ | ✿ ✿ ✿ ✿ ✿ ✿ ✿ ✿ ✿ ✿\n",
      "━━ Shipment ━━ Boxes: 3 ━━ Stems: 30 ━━━━━━━━━━━━━━━━━━━━━━━━━━━━━━━━━━━━━━━━━━━\n",
      "✿ ✿ ✿ ✿ ✿ ✿ ✿ ✿ ✿ ✿ | 🐛 🐛 🐛 🐛 🐛 🐛 🐛 🐛 🐛 🐛 | ✿ ✿ ✿ ✿ ✿ ✿ ✿ ✿ ✿ ✿\n",
      "━━ Shipment ━━ Boxes: 4 ━━ Stems: 40 ━━━━━━━━━━━━━━━━━━━━━━━━━━━━━━━━━━━━━━━━━━━\n",
      "✿ ✿ ✿ ✿ ✿ ✿ ✿ ✿ ✿ ✿ | ✿ ✿ ✿ ✿ ✿ ✿ ✿ ✿ ✿ ✿ | ✿ ✿ ✿ ✿ ✿ ✿ ✿ ✿ ✿ ✿ | ✿ ✿ ✿ ✿ ✿ ✿ ✿ ✿ ✿ ✿\n",
      "\n",
      "\n",
      "Simulation parameters:\n",
      "-----------------------\n",
      "infestation:\n",
      "\t type: fixed_value\n",
      "\t infestation rate: 0.05\n",
      "\t pest arrangement: random_box\n",
      "inspection:\n",
      "\t unit: stems\n",
      "\t proportion of box inspected: 1\n",
      "\t sample strategy: percentage\n",
      "\t proportion: 0.02\n",
      "\t selection strategy: random\n",
      "\n",
      "\n",
      "Simulation results:\n",
      "-----------------------\n",
      "Avg. % shipments slipped: 66.67%\n",
      "Avg. infestation rate: 0.237\n",
      "Avg. infestation rate of slipped shipments: 0.292\n",
      "Avg. infestation rate of intercepted shipments: 0.600\n",
      "Avg. number of boxes opened per shipment:\n",
      "\t to completion: 1\n",
      "\t to detection: 1\n",
      "Avg. number of stems inspected per shipment:\n",
      "\t to completion: 10\n",
      "\t to detection: 10\n",
      "Avg. % sample completed if sample ends at detection: 100.00%\n",
      "Avg. % infested stems unreported if sample ends at detection: 0.00%\n"
     ]
    }
   ],
   "source": [
    "!python -m pathways --num-shipments=5 --config-file=simple.yml --pretty --seed=4"
   ]
  },
  {
   "cell_type": "markdown",
   "metadata": {},
   "source": [
    "## A more complex example\n",
    "\n",
    "We start again by preparing the configuration file. In this example, we use more realistic size of the shipments\n",
    "by setting `boxes` and `stems_per_box`. We also use non-constant infestation rate by using the beta distribution."
   ]
  },
  {
   "cell_type": "code",
   "execution_count": 3,
   "metadata": {},
   "outputs": [
    {
     "name": "stdout",
     "output_type": "stream",
     "text": [
      "Writing complex.yml\n"
     ]
    }
   ],
   "source": [
    "%%writefile complex.yml\n",
    "shipment:\n",
    "  origins:\n",
    "  - Netherlands\n",
    "  - Mexico\n",
    "  flowers:\n",
    "  - Hyacinthus\n",
    "  - Rosa\n",
    "  boxes:\n",
    "    min: 1\n",
    "    max: 3000\n",
    "stems_per_box:\n",
    "  default: 200\n",
    "ports:\n",
    "  - NY JFK CBP\n",
    "  - FL Miami Air CBP\n",
    "pest:\n",
    "  infestation_rate:\n",
    "    distribution: beta\n",
    "    value: 0.05\n",
    "    parameters:\n",
    "    - 4\n",
    "    - 60\n",
    "  arrangement: clustered\n",
    "  clustered:\n",
    "    max_stems_per_cluster: 400\n",
    "    distribution: random\n",
    "    parameters:\n",
    "    - 800\n",
    "inspection:\n",
    "  # Here we are using boxes as a sample unit.\n",
    "  unit: boxes\n",
    "  # Here we use and configure hypergeometric sampling.\n",
    "  sample_strategy: hypergeometric\n",
    "  hypergeometric:\n",
    "    detection_level: 0.05\n",
    "    confidence_level: 0.95\n",
    "    min_boxes: 1\n",
    "  # We can keep the configuration for sample_strategy: percentage here.\n",
    "  # It is not used by the simulation and we can easily switch to it by changing sample_strategy\n",
    "  # without actually touching the configurations under percentage: or hypergeometric:.\n",
    "  percentage:\n",
    "    proportion: 0.02\n",
    "  within_box_pct: 1\n",
    "  # We can change how sample units are selected for inspection by changing selection_strategy\n",
    "  # to either random or tailgate.\n",
    "  selection_strategy: random"
   ]
  },
  {
   "cell_type": "markdown",
   "metadata": {},
   "source": [
    "Now we simulate more shipments and we ask for multiple stochastic runs to increase robustness of the result\n",
    "(but we still keep both values low to get result quickly for this example): "
   ]
  },
  {
   "cell_type": "code",
   "execution_count": 4,
   "metadata": {},
   "outputs": [
    {
     "name": "stdout",
     "output_type": "stream",
     "text": [
      "\n",
      "\n",
      "Simulation parameters:\n",
      "-----------------------\n",
      "infestation:\n",
      "\t type: beta\n",
      "\t infestation distribution parameters: [4, 60]\n",
      "\t pest arrangement: clustered\n",
      "\t cluster width: 800 stems\n",
      "\t maximum infested stems per cluster: 400 stems\n",
      "inspection:\n",
      "\t unit: boxes\n",
      "\t proportion of box inspected: 1\n",
      "\t sample strategy: hypergeometric\n",
      "\t detection level: 0.05\n",
      "\t selection strategy: random\n",
      "\n",
      "\n",
      "Simulation results:\n",
      "-----------------------\n",
      "Avg. % shipments slipped: 0.42%\n",
      "Avg. infestation rate: 0.058\n",
      "Avg. infestation rate of slipped shipments: 0.017\n",
      "Avg. infestation rate of intercepted shipments: 0.058\n",
      "Avg. number of boxes opened per shipment:\n",
      "\t to completion: 56\n",
      "\t to detection: 9\n",
      "Avg. number of stems inspected per shipment:\n",
      "\t to completion: 11128\n",
      "\t to detection: 1735\n",
      "Avg. % sample completed if sample ends at detection: 15.60%\n",
      "Avg. % infested stems unreported if sample ends at detection: 87.78%\n"
     ]
    }
   ],
   "source": [
    "!python -m pathways --num-simulations=4 --num-shipments=60 --config-file=complex.yml --seed=4"
   ]
  },
  {
   "cell_type": "markdown",
   "metadata": {},
   "source": [
    "To learn more about the configuration and the simulation itself start in the [readme file](https://github.com/ncsu-landscape-dynamics/pathways-simulation#readme) of the simulation repository."
   ]
  }
 ],
 "metadata": {
  "kernelspec": {
   "display_name": "Python 3",
   "language": "python",
   "name": "python3"
  },
  "language_info": {
   "codemirror_mode": {
    "name": "ipython",
    "version": 3
   },
   "file_extension": ".py",
   "mimetype": "text/x-python",
   "name": "python",
   "nbconvert_exporter": "python",
   "pygments_lexer": "ipython3",
   "version": "3.7.6"
  }
 },
 "nbformat": 4,
 "nbformat_minor": 4
}
