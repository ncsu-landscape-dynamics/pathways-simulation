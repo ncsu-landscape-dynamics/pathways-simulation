{
 "cells": [
  {
   "cell_type": "markdown",
   "metadata": {},
   "source": [
    "# Pathways simulation command line examples\n",
    "\n",
    "## A trivial example\n",
    "\n",
    "First, we create a [YAML](https://www.codeproject.com/Articles/1214409/Learn-YAML-in-five-minutes) configuration file\n",
    "with minimal (and unrealistic) parameters to run the simulation (the name of the file is `simple.yml`):"
   ]
  },
  {
   "cell_type": "code",
   "execution_count": null,
   "metadata": {},
   "outputs": [],
   "source": [
    "%%writefile simple.yml\n",
    "# In the configuration of the shipement generator, we only use couple of ports, flowers, and ports\n",
    "# because they are currently not used by the simulation anyway.\n",
    "consignment:\n",
    "  origins:\n",
    "  - Netherlands\n",
    "  - Mexico\n",
    "  flowers:\n",
    "  - Hyacinthus\n",
    "  - Rosa\n",
    "  ports:\n",
    "  - NY JFK CBP\n",
    "  - FL Miami Air CBP\n",
    "  # We set very low number of boxes and items.\n",
    "  boxes:\n",
    "    min: 2\n",
    "    max: 5\n",
    "  items_per_box:\n",
    "    default: 10\n",
    "contamination:\n",
    "  # We will contaminate individual items.\n",
    "  contamination_unit: item\n",
    "  # We use one of the simplest contaminant placement options.\n",
    "  # Fixed contamination rate for each consignment \n",
    "  contamination_rate:\n",
    "    distribution: fixed_value\n",
    "    value: 0.05\n",
    "  # Contaminant present in a portion of random boxes\n",
    "  arrangement: random_box\n",
    "  random_box:\n",
    "    # Contaminants present in every second consignment on average\n",
    "    probability: 0.5\n",
    "    # Roughly a third of boxes should be contaminated\n",
    "    ratio: 0.33\n",
    "inspection:\n",
    "  # Decision about sampling will be made using items as a inspection unit.\n",
    "  unit: items\n",
    "  # We will inspect 2% of items.\n",
    "  sample_strategy: proportion\n",
    "  # We allow no boxes to be inspected.\n",
    "  min_boxes: 0\n",
    "  # No contamination tolerance threshold for this example, set to 0\n",
    "  tolerance_level: 0\n",
    "  proportion:\n",
    "    value: 0.02\n",
    "  # Once we pick a box, we will inspect all of its content.\n",
    "  within_box_proportion: 1\n",
    "  # Boxes for inspection are selected randomly.\n",
    "  selection_strategy: random"
   ]
  },
  {
   "cell_type": "markdown",
   "metadata": {},
   "source": [
    "Then we create run the simulation generating only couple consignments.\n",
    "The low number of boxes per consignment (`boxes`) and items per box (`items_per_box`) in the configuration and the low number\n",
    "of consignments in the simulation allows us to show the individual items\n",
    "within each consignment using a symbol of a flower (`✿`) indicating ones with contaminants using a symbol of a bug (`🐛`) instead of a flower.\n",
    "Change the seed value to see different random placements of the contaminants within the consignment\n",
    "(for example, using `--seed=5`).\n",
    "The `arrangement` is set to `random_box`, so you will always see contaminant present on the whole box\n",
    "which is marked by pipe symbols (`|`) in the output.\n",
    "We are using `python -m pathways` to run the simulation through its command line interface:"
   ]
  },
  {
   "cell_type": "code",
   "execution_count": null,
   "metadata": {},
   "outputs": [],
   "source": [
    "!python -m pathways --num-consignments=5 --config-file=simple.yml --pretty --seed=4"
   ]
  },
  {
   "cell_type": "markdown",
   "metadata": {},
   "source": [
    "## A more complex example\n",
    "\n",
    "We start again by preparing the configuration file. In this example, we use more realistic size of the consignments\n",
    "by setting `boxes` and `items_per_box`. We also use non-constant contamination rate by using the beta distribution."
   ]
  },
  {
   "cell_type": "code",
   "execution_count": null,
   "metadata": {},
   "outputs": [],
   "source": [
    "%%writefile complex.yml\n",
    "consignment:\n",
    "  origins:\n",
    "  - Netherlands\n",
    "  - Mexico\n",
    "  flowers:\n",
    "  - Hyacinthus\n",
    "  - Rosa\n",
    "  ports:\n",
    "  - NY JFK CBP\n",
    "  - FL Miami Air CBP\n",
    "  boxes:\n",
    "    min: 1\n",
    "    max: 3000\n",
    "  items_per_box:\n",
    "    default: 200\n",
    "contamination:\n",
    "  contamination_unit: item\n",
    "  contamination_rate:\n",
    "    distribution: beta\n",
    "    value: 0.05\n",
    "    parameters:\n",
    "    - 4\n",
    "    - 60\n",
    "  arrangement: clustered\n",
    "  clustered:\n",
    "    contaminated_units_per_cluster: 200\n",
    "    distribution: random\n",
    "    random:\n",
    "      cluster_item_width: 400\n",
    "inspection:\n",
    "  # Here we are using boxes as a sample unit.\n",
    "  unit: boxes\n",
    "  min_boxes: 1\n",
    "  # Here we use a contamination tolerance level of 0.005, so we will get a count of the missed consignments with contamination rates below this threshold.\n",
    "  tolerance_level: 0.005\n",
    "  # Here we use and configure hypergeometric sampling.\n",
    "  sample_strategy: hypergeometric\n",
    "  hypergeometric:\n",
    "    detection_level: 0.05\n",
    "    confidence_level: 0.95\n",
    "  # We can keep the configuration for sample_strategy: percentage here.\n",
    "  # It is not used by the simulation and we can easily switch to it by changing sample_strategy\n",
    "  # without actually touching the configurations under percentage: or hypergeometric:.\n",
    "  proportion:\n",
    "    value: 0.02\n",
    "  within_box_proportion: 1\n",
    "  # We can change how sample units are selected for inspection by changing selection_strategy\n",
    "  # to either random or convenience.\n",
    "  selection_strategy: random"
   ]
  },
  {
   "cell_type": "markdown",
   "metadata": {},
   "source": [
    "Now we simulate more consignment and we ask for multiple stochastic runs to increase robustness of the result\n",
    "(but we still keep both values low to get result quickly for this example): "
   ]
  },
  {
   "cell_type": "code",
   "execution_count": null,
   "metadata": {},
   "outputs": [],
   "source": [
    "!python -m pathways --num-simulations=4 --num-consignments=60 --config-file=complex.yml --seed=4"
   ]
  },
  {
   "cell_type": "markdown",
   "metadata": {},
   "source": [
    "To learn more about the configuration and the simulation itself start in the [readme file](https://github.com/ncsu-landscape-dynamics/pathways-simulation#readme) of the simulation repository."
   ]
  }
 ],
 "metadata": {
  "kernelspec": {
   "display_name": "Python 3",
   "language": "python",
   "name": "python3"
  },
  "language_info": {
   "codemirror_mode": {
    "name": "ipython",
    "version": 3
   },
   "file_extension": ".py",
   "mimetype": "text/x-python",
   "name": "python",
   "nbconvert_exporter": "python",
   "pygments_lexer": "ipython3",
   "version": "3.7.9-final"
  }
 },
 "nbformat": 4,
 "nbformat_minor": 4
}